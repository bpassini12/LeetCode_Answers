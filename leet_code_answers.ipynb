{
 "cells": [
  {
   "attachments": {},
   "cell_type": "markdown",
   "metadata": {},
   "source": [
    "## 13. Roman to Integer\n",
    "\n",
    "- Roman numerals are represented by seven different symbols: I, V, X, L, C, D and M.\n",
    "\n",
    "- Symbol       Value\n",
    "- I             1\n",
    "- V             5\n",
    "- X             10\n",
    "- L             50\n",
    "- C             100\n",
    "- D             500\n",
    "- M             1000\n",
    "\n",
    "- For example, 2 is written as II in Roman numeral, just two ones added together. 12 is written as XII,   which is simply X + II. The number 27 is written as XXVII, which is XX + V + II.\n",
    "\n",
    "- Roman numerals are usually written largest to smallest from left to right. However, the numeral for four is not IIII. Instead, the number four is written as IV. Because the one is before the five we subtract it making four. The same principle applies to the number nine, which is written as IX. There are six instances where subtraction is used:\n",
    "\n",
    "- I can be placed before V (5) and X (10) to make 4 and 9. \n",
    "- X can be placed before L (50) and C (100) to make 40 and 90. \n",
    "- C can be placed before D (500) and M (1000) to make 400 and 900."
   ]
  },
  {
   "cell_type": "code",
   "execution_count": 107,
   "metadata": {},
   "outputs": [
    {
     "data": {
      "text/plain": [
       "1994"
      ]
     },
     "execution_count": 107,
     "metadata": {},
     "output_type": "execute_result"
    }
   ],
   "source": [
    "class Solution:\n",
    "    def romanToInt(self, s: str) -> int:\n",
    "        p = {'IV':4\n",
    "            ,'IX':9\n",
    "            ,'XL':40\n",
    "            ,'XC':90\n",
    "            ,'CD':400\n",
    "            ,'CM':900}\n",
    "\n",
    "        d = {'I':1\n",
    "            ,'V':5\n",
    "            ,'X':10\n",
    "            ,'L':50\n",
    "            ,'C':100\n",
    "            ,'D':500\n",
    "            ,'M':1000\n",
    "            }\n",
    "\n",
    "        idx = n = 0\n",
    "\n",
    "        while idx < len(s):\n",
    "\n",
    "            ck = s[idx:idx+2]\n",
    "            \n",
    "            if len(ck) ==2:\n",
    "                try:\n",
    "                    n+=p[ck]\n",
    "                    idx+=2\n",
    "                except KeyError:\n",
    "                    n+=d[s[idx]]\n",
    "                    idx+=1\n",
    "            else:\n",
    "                n+=d[s[idx]]\n",
    "                idx+=1\n",
    "\n",
    "        return n\n",
    "\n",
    "#example\n",
    "Solution().romanToInt(s=\"MCMXCIV\")"
   ]
  },
  {
   "attachments": {},
   "cell_type": "markdown",
   "metadata": {},
   "source": [
    "## 14. Longest Common Prefix"
   ]
  },
  {
   "cell_type": "code",
   "execution_count": 105,
   "metadata": {},
   "outputs": [
    {
     "data": {
      "text/plain": [
       "1994"
      ]
     },
     "execution_count": 105,
     "metadata": {},
     "output_type": "execute_result"
    }
   ],
   "source": []
  },
  {
   "cell_type": "code",
   "execution_count": null,
   "metadata": {},
   "outputs": [],
   "source": []
  }
 ],
 "metadata": {
  "kernelspec": {
   "display_name": "base",
   "language": "python",
   "name": "python3"
  },
  "language_info": {
   "codemirror_mode": {
    "name": "ipython",
    "version": 3
   },
   "file_extension": ".py",
   "mimetype": "text/x-python",
   "name": "python",
   "nbconvert_exporter": "python",
   "pygments_lexer": "ipython3",
   "version": "3.8.3"
  },
  "orig_nbformat": 4,
  "vscode": {
   "interpreter": {
    "hash": "6dcd5ed0619d6e190ce28eda4fb285b823bf039212fccfd5181c0913eeb0cca0"
   }
  }
 },
 "nbformat": 4,
 "nbformat_minor": 2
}
